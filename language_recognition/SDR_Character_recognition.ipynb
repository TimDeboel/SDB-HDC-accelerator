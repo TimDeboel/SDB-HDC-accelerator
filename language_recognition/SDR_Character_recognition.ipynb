{
 "cells": [
  {
   "cell_type": "code",
   "execution_count": 186,
   "metadata": {
    "executionInfo": {
     "elapsed": 399,
     "status": "ok",
     "timestamp": 1697724336427,
     "user": {
      "displayName": "Tidez",
      "userId": "02859539383443049395"
     },
     "user_tz": -120
    },
    "id": "VMQzN0ttUuxj"
   },
   "outputs": [],
   "source": [
    "from matplotlib import image\n",
    "import math\n",
    "import matplotlib.pyplot as plt\n",
    "import requests\n",
    "import random\n",
    "import numpy as np\n",
    "import numpy.linalg as lin\n",
    "import scipy.special as ss\n",
    "\n",
    "# Convert binary text into a list\n",
    "def convert_to_list(raw_img):\n",
    "  converted_list = []\n",
    "  temp_row = []\n",
    "  for i in raw_img:\n",
    "    if(i != '\\n'):\n",
    "      if(i == '0'):\n",
    "        temp_row.append(0)\n",
    "      else:\n",
    "        temp_row.append(1)\n",
    "    else:\n",
    "      converted_list.append(temp_row)\n",
    "      temp_row = []\n",
    "\n",
    "  return converted_list\n",
    "\n",
    "###############################################\n",
    "# Displaying listed data as images\n",
    "###############################################\n",
    "def display_img(img_data):\n",
    "  plt.imshow(img_data, cmap='Greys',  interpolation='nearest')\n",
    "  plt.axis('off')\n",
    "  return\n",
    "\n",
    "###############################################\n",
    "# Adding noise to the system\n",
    "###############################################\n",
    "def add_noise(data,noise_prob):\n",
    "\n",
    "  # Initialize noisy data\n",
    "  noisy_data = []\n",
    "\n",
    "  # Sanity checker\n",
    "  if(noise_prob < 0 or noise_prob > 1):\n",
    "    print(\"Error! Noise probability isn't correct\")\n",
    "    return\n",
    "\n",
    "  # Get total length per row\n",
    "  col_length = len(data[0])\n",
    "\n",
    "  # Generate fixed length\n",
    "  shuffle_list = [x for x in range(col_length)]\n",
    "  cutoff_idx = round(col_length * noise_prob)\n",
    "\n",
    "  # Iterate per row\n",
    "  for row in data:\n",
    "\n",
    "    # Do random indexing\n",
    "    random.shuffle(shuffle_list)\n",
    "    temp_row = []\n",
    "\n",
    "    # Start flipping bits\n",
    "    for i in range(col_length):\n",
    "      if(shuffle_list[i] < cutoff_idx):\n",
    "        if(row[i] == 0):\n",
    "          temp_row.append(1)\n",
    "        else:\n",
    "          temp_row.append(0)\n",
    "      else:\n",
    "        temp_row.append(row[i])\n",
    "\n",
    "    noisy_data.append(temp_row)\n",
    "\n",
    "  return noisy_data\n",
    "\n",
    "###############################################\n",
    "# This just displays a clean set of letters\n",
    "###############################################\n",
    "def show_set(clean_letters):\n",
    "\n",
    "  fig, axs = plt.subplots(6, 5, figsize=(20, 20))\n",
    "\n",
    "  counter = 0\n",
    "  for i in range(5):\n",
    "    for j in range(5):\n",
    "      axs[i,j].imshow(1-np.reshape(clean_letters[i*5+j],(7,5)), cmap='Greys',  interpolation='nearest')\n",
    "\n",
    "  axs[5,0].axis('off')\n",
    "  axs[5,1].axis('off')\n",
    "\n",
    "  axs[5,2].imshow(1-np.reshape(clean_letters[25],(7,5)), cmap='Greys',  interpolation='nearest')\n",
    "\n",
    "  axs[5,3].axis('off')\n",
    "  axs[5,4].axis('off')\n",
    "\n",
    "  plt.show()\n",
    "\n",
    "###############################################\n",
    "# Displays a single letter\n",
    "###############################################\n",
    "def show_letter(letter):\n",
    "  plt.imshow(1-np.reshape(letter,(7,5)), cmap='Greys',  interpolation='nearest')\n",
    "\n",
    "###############################################\n",
    "# Magnitude counter\n",
    "###############################################\n",
    "def get_mag(A):\n",
    "  return np.sum(A)\n",
    "\n",
    "###############################################\n",
    "# Importing data\n",
    "###############################################\n",
    "# This data set contains all the letter from A to Z\n",
    "# Each row is a vectorized version of the letter\n",
    "# Each letter image has 7x5 pixel dimensions\n",
    "# The data set is arranged such that A is the first row and Z is the last\n",
    "# We made them into arrays too for simplicity\n",
    "clean_letters = convert_to_list(list(requests.get('https://raw.githubusercontent.com/rgantonio/CoE161---FileDump/main/letters.txt').text))\n",
    "clean_letters = np.array(clean_letters)\n"
   ]
  },
  {
   "cell_type": "code",
   "execution_count": 187,
   "metadata": {
    "colab": {
     "base_uri": "https://localhost:8080/",
     "height": 447
    },
    "executionInfo": {
     "elapsed": 8,
     "status": "ok",
     "timestamp": 1697724336921,
     "user": {
      "displayName": "Tidez",
      "userId": "02859539383443049395"
     },
     "user_tz": -120
    },
    "id": "8u_xGLqjVNbO",
    "outputId": "ac23414b-8385-4e43-8c39-cbdc5b327f01"
   },
   "outputs": [
    {
     "name": "stdout",
     "output_type": "stream",
     "text": [
      "[0 1 1 1 0 1 0 0 0 1 1 0 0 0 1 1 0 0 0 1 1 0 0 0 1 1 0 0 0 1 0 1 1 1 0]\n"
     ]
    },
    {
     "data": {
      "image/png": "[encoded data removed]",
      "text/plain": [
       "<Figure size 640x480 with 1 Axes>"
      ]
     },
     "metadata": {},
     "output_type": "display_data"
    }
   ],
   "source": [
    "###############################################\n",
    "# Randomly display a single letter one at a time\n",
    "###############################################\n",
    "i = random.randint(0, 25)\n",
    "show_letter(clean_letters[i])\n",
    "print(clean_letters[i])"
   ]
  },
  {
   "cell_type": "code",
   "execution_count": 188,
   "metadata": {
    "colab": {
     "base_uri": "https://localhost:8080/"
    },
    "executionInfo": {
     "elapsed": 7,
     "status": "ok",
     "timestamp": 1697724336921,
     "user": {
      "displayName": "Tidez",
      "userId": "02859539383443049395"
     },
     "user_tz": -120
    },
    "id": "rRc-KGdVVSC3",
    "outputId": "5fd21e19-9d91-4393-dc12-24229b8c87d2"
   },
   "outputs": [
    {
     "name": "stdout",
     "output_type": "stream",
     "text": [
      "Density: 0.009765625\n"
     ]
    }
   ],
   "source": [
    "###############################################\n",
    "# Set parameters\n",
    "###############################################\n",
    "D = 2048\n",
    "M = 20    # Number of ones\n",
    "print(\"Density: \" + str(M/D))"
   ]
  },
  {
   "cell_type": "code",
   "execution_count": 189,
   "metadata": {
    "executionInfo": {
     "elapsed": 7,
     "status": "ok",
     "timestamp": 1697724336922,
     "user": {
      "displayName": "Tidez",
      "userId": "02859539383443049395"
     },
     "user_tz": -120
    },
    "id": "qBOLzE0KVuC6"
   },
   "outputs": [],
   "source": [
    "# Generate random HV, with 10% ones\n",
    "def u_gen_rand_hv(D):\n",
    "\n",
    "    # Sanity checker\n",
    "    if (D % 2):\n",
    "        print(\"Error - D can't be an odd number\")\n",
    "        return 0\n",
    "\n",
    "    hv = np.zeros(D, dtype = int)\n",
    "    indices = np.random.permutation(D)\n",
    "\n",
    "    hv[indices >= M] = 0\n",
    "    hv[indices < M] = 1\n",
    "\n",
    "    return hv"
   ]
  },
  {
   "cell_type": "code",
   "execution_count": 190,
   "metadata": {},
   "outputs": [],
   "source": [
    "def countones(A):\n",
    "  cnt1 = 0\n",
    "  for i in A:\n",
    "    if (i == 1):\n",
    "      cnt1 += 1\n",
    "  return (cnt1/len(A))"
   ]
  },
  {
   "cell_type": "code",
   "execution_count": 191,
   "metadata": {
    "executionInfo": {
     "elapsed": 7,
     "status": "ok",
     "timestamp": 1697724336922,
     "user": {
      "displayName": "Tidez",
      "userId": "02859539383443049395"
     },
     "user_tz": -120
    },
    "id": "EHqt36FBf8x1"
   },
   "outputs": [],
   "source": [
    "###############################################\n",
    "# Overlap calculation\n",
    "###############################################\n",
    "def overlap(A,B,D):\n",
    "    return np.sum(np.logical_and(A,B))/D"
   ]
  },
  {
   "cell_type": "code",
   "execution_count": 192,
   "metadata": {
    "executionInfo": {
     "elapsed": 7,
     "status": "ok",
     "timestamp": 1697724336922,
     "user": {
      "displayName": "Tidez",
      "userId": "02859539383443049395"
     },
     "user_tz": -120
    },
    "id": "pDQVQw8FSb1E"
   },
   "outputs": [],
   "source": [
    "def perm(A,N):\n",
    "  return np.roll(A,N)"
   ]
  },
  {
   "cell_type": "code",
   "execution_count": 193,
   "metadata": {
    "executionInfo": {
     "elapsed": 6,
     "status": "ok",
     "timestamp": 1697724336922,
     "user": {
      "displayName": "Tidez",
      "userId": "02859539383443049395"
     },
     "user_tz": -120
    },
    "id": "WM7qlXw3XBEB"
   },
   "outputs": [],
   "source": [
    "def superimpose(block):\n",
    "  # Apply OR to all HV's in block\n",
    "  return np.array([1 if x >= 1 else 0 for x in sum(block)])"
   ]
  },
  {
   "cell_type": "code",
   "execution_count": 194,
   "metadata": {
    "executionInfo": {
     "elapsed": 6,
     "status": "ok",
     "timestamp": 1697724336922,
     "user": {
      "displayName": "Tidez",
      "userId": "02859539383443049395"
     },
     "user_tz": -120
    },
    "id": "jyb35GtuoyXg"
   },
   "outputs": [],
   "source": [
    "# def CDT(A,K):\n",
    "#   # Returns thinned vector, K controls the density (K=1 in original paper)\n",
    "#   thinned_list = []\n",
    "#   for k in range(1,K+1):\n",
    "#     el = np.logical_and(A,perm(A,k))\n",
    "#     thinned_list.append(el)\n",
    "#   # OR together the shifted vectors\n",
    "#   return np.array([1 if x >= 1 else 0 for x in sum(thinned_list)])"
   ]
  },
  {
   "cell_type": "code",
   "execution_count": 195,
   "metadata": {
    "executionInfo": {
     "elapsed": 6,
     "status": "ok",
     "timestamp": 1697724336922,
     "user": {
      "displayName": "Tidez",
      "userId": "02859539383443049395"
     },
     "user_tz": -120
    },
    "id": "UdVbAgPooyEL"
   },
   "outputs": [],
   "source": [
    "# def HGN(block):\n",
    "  # return CDT(superimpose(block),1)"
   ]
  },
  {
   "cell_type": "code",
   "execution_count": 196,
   "metadata": {
    "executionInfo": {
     "elapsed": 6,
     "status": "ok",
     "timestamp": 1697724336922,
     "user": {
      "displayName": "Tidez",
      "userId": "02859539383443049395"
     },
     "user_tz": -120
    },
    "id": "HkcAmSt2vCjL"
   },
   "outputs": [],
   "source": [
    "def HGN2(block):\n",
    "  # Alternative? implementation, maintaining a lower density\n",
    "  # Results are worse and much more inconsistent\n",
    "  K = 1\n",
    "  # Returns thinned vector, K controls the density (K=1 in original paper)\n",
    "  thinned_list = []\n",
    "  or_list = []\n",
    "  for k in range(1,K+1):\n",
    "    for j in range(0,len(block)):\n",
    "      el = np.logical_and(block[j],perm(block[j],k))\n",
    "      thinned_list.append(el)\n",
    "    or_list.append(np.array([1 if x >= 1 else 0 for x in sum(thinned_list)]))\n",
    "  # OR together the shifted vectors\n",
    "  return superimpose(or_list)"
   ]
  },
  {
   "cell_type": "code",
   "execution_count": 197,
   "metadata": {
    "executionInfo": {
     "elapsed": 6,
     "status": "ok",
     "timestamp": 1697724336922,
     "user": {
      "displayName": "Tidez",
      "userId": "02859539383443049395"
     },
     "user_tz": -120
    },
    "id": "5MZOsB6XFw2A"
   },
   "outputs": [],
   "source": [
    "def HGN(block):\n",
    "  # implementation as in the paper (additive CDT)\n",
    "  K = 1\n",
    "  thinned_list = []\n",
    "  Z = superimpose(block)\n",
    "  # print(countones(Z))\n",
    "  for k in range(1,K+1):\n",
    "    thinned_list.append(np.logical_and(Z, perm(Z,k)))\n",
    "  \n",
    "  # X = superimpose(thinned_list)\n",
    "  # thinned_list = []\n",
    "  # for k in range(1,K+1):\n",
    "  #   thinned_list.append(np.logical_and(X, perm(X,k)))\n",
    "\n",
    "  # X = superimpose(thinned_list)\n",
    "  # thinned_list = []\n",
    "  # for k in range(1,K+1):\n",
    "  #   thinned_list.append(np.logical_and(X, perm(X,k)))\n",
    "  \n",
    "  encoded = superimpose(thinned_list)\n",
    "  # print(countones(encoded))\n",
    "  return encoded"
   ]
  },
  {
   "cell_type": "code",
   "execution_count": 198,
   "metadata": {
    "colab": {
     "base_uri": "https://localhost:8080/"
    },
    "executionInfo": {
     "elapsed": 356,
     "status": "ok",
     "timestamp": 1697724337273,
     "user": {
      "displayName": "Tidez",
      "userId": "02859539383443049395"
     },
     "user_tz": -120
    },
    "id": "RE86J3SmkVmA",
    "outputId": "77147990-9082-4137-ec6c-8c56ee8d1c57"
   },
   "outputs": [
    {
     "name": "stdout",
     "output_type": "stream",
     "text": [
      "0.009765625\n",
      "[[0 0 0 ... 0 0 0]\n",
      " [0 0 0 ... 0 0 0]\n",
      " [0 0 0 ... 0 0 0]\n",
      " [0 0 0 ... 0 0 0]]\n",
      "[0 0 0 ... 0 0 0]\n",
      "0.0009765625\n",
      "0.0380859375\n"
     ]
    }
   ],
   "source": [
    "# Sandbox\n",
    "A = u_gen_rand_hv(D)\n",
    "B = u_gen_rand_hv(D)\n",
    "C = u_gen_rand_hv(D)\n",
    "E = u_gen_rand_hv(D)\n",
    "\n",
    "# Create HV block and bundle\n",
    "print(countones(A))\n",
    "block_test = np.array([A,B,C,E])\n",
    "print(block_test)\n",
    "test = HGN(block_test)\n",
    "print(test)\n",
    "# print(overlap(A,A,D))\n",
    "print(countones(test))\n",
    "print(countones(superimpose(block_test)))"
   ]
  },
  {
   "cell_type": "markdown",
   "metadata": {
    "id": "nFHiaVv6enR4"
   },
   "source": [
    "# **Encoding**"
   ]
  },
  {
   "cell_type": "code",
   "execution_count": 199,
   "metadata": {
    "executionInfo": {
     "elapsed": 4,
     "status": "ok",
     "timestamp": 1697724337273,
     "user": {
      "displayName": "Tidez",
      "userId": "02859539383443049395"
     },
     "user_tz": -120
    },
    "id": "kPxsRIo1epPK"
   },
   "outputs": [],
   "source": [
    "def create_item_mem(N,D):\n",
    "  item_mem = dict()\n",
    "  for n in range(N):\n",
    "    item_mem[n] = u_gen_rand_hv(D)\n",
    "  return item_mem"
   ]
  },
  {
   "cell_type": "code",
   "execution_count": 200,
   "metadata": {
    "executionInfo": {
     "elapsed": 4,
     "status": "ok",
     "timestamp": 1697724337273,
     "user": {
      "displayName": "Tidez",
      "userId": "02859539383443049395"
     },
     "user_tz": -120
    },
    "id": "4jHT2ek1e0FU"
   },
   "outputs": [],
   "source": [
    "# Initialize item memory\n",
    "letter_im = create_item_mem(35,D)\n",
    "# print(letter_im)"
   ]
  },
  {
   "cell_type": "code",
   "execution_count": 201,
   "metadata": {
    "executionInfo": {
     "elapsed": 4,
     "status": "ok",
     "timestamp": 1697724337273,
     "user": {
      "displayName": "Tidez",
      "userId": "02859539383443049395"
     },
     "user_tz": -120
    },
    "id": "3ycYbWd0e4bK"
   },
   "outputs": [],
   "source": [
    "# HDC encoder\n",
    "def hdc_encode(letter, letter_im, D):\n",
    "  letter_block = []\n",
    "  for i in range(len(letter)):\n",
    "    if(letter[i] == 1):\n",
    "      hv = perm(letter_im[i],1)\n",
    "    else:\n",
    "      hv = letter_im[i]\n",
    "\n",
    "    letter_block.append(hv)\n",
    "    # print(countones(superimpose(letter_block)))\n",
    "  return HGN(letter_block)"
   ]
  },
  {
   "cell_type": "code",
   "execution_count": 202,
   "metadata": {
    "colab": {
     "base_uri": "https://localhost:8080/"
    },
    "executionInfo": {
     "elapsed": 3,
     "status": "ok",
     "timestamp": 1697724337273,
     "user": {
      "displayName": "Tidez",
      "userId": "02859539383443049395"
     },
     "user_tz": -120
    },
    "id": "Ph5FtcwbhU0a",
    "outputId": "b92abb29-206f-4a17-9e34-3bfa57cb98ad"
   },
   "outputs": [
    {
     "name": "stdout",
     "output_type": "stream",
     "text": [
      "[0 0 0 ... 0 0 0]\n",
      "174\n",
      "Density: 0.0849609375\n"
     ]
    }
   ],
   "source": [
    "###############################################\n",
    "# Checker. Go ahead and change the index of the clean_letters\n",
    "###############################################\n",
    "check_hdc_encode = hdc_encode(clean_letters[2],letter_im,D)\n",
    "print(check_hdc_encode)\n",
    "nbones = 0\n",
    "for i in check_hdc_encode:\n",
    "  if (i==1): nbones += 1\n",
    "print(nbones)\n",
    "print(\"Density: \" + str(nbones/len(check_hdc_encode)))\n",
    "# print(superimpose(letter_im.values()))"
   ]
  },
  {
   "cell_type": "code",
   "execution_count": 203,
   "metadata": {
    "executionInfo": {
     "elapsed": 3,
     "status": "ok",
     "timestamp": 1697724337273,
     "user": {
      "displayName": "Tidez",
      "userId": "02859539383443049395"
     },
     "user_tz": -120
    },
    "id": "dv2uFvgnfZtk"
   },
   "outputs": [],
   "source": [
    "# Create associative memory\n",
    "keys = ['a','b','c','d','e','f','g','h','i','j','k','l','m','n','o','p','q','r','s','t','u','v','w','x','y','z']\n",
    "\n",
    "letter_am = dict()\n",
    "\n",
    "for i in range(len(keys)):\n",
    "  letter_am[keys[i]] = hdc_encode(clean_letters[i],letter_im,D)\n",
    "\n",
    "# print(letter_am['a'])\n",
    "# letter = clean_letters[1]\n",
    "# letter_block = []\n",
    "# for i in range(len(letter)):\n",
    "#   if(letter[i] == 1):\n",
    "#     hv = perm(letter_im[i],1)\n",
    "#   else:\n",
    "#     hv = letter_im[i]\n",
    "\n",
    "#   letter_block.append(hv)\n"
   ]
  },
  {
   "cell_type": "code",
   "execution_count": 204,
   "metadata": {
    "executionInfo": {
     "elapsed": 4,
     "status": "ok",
     "timestamp": 1697724337274,
     "user": {
      "displayName": "Tidez",
      "userId": "02859539383443049395"
     },
     "user_tz": -120
    },
    "id": "V_MU9v98veiB"
   },
   "outputs": [],
   "source": [
    "def similarity_search(letter,letter_im,letter_am,D):\n",
    "  sim_score = 0\n",
    "  sim_letter = '0'\n",
    "  test_hv = hdc_encode(letter,letter_im,D)\n",
    "  for i in letter_am:\n",
    "    temp_score = overlap(test_hv, letter_am[i],D)\n",
    "    if temp_score > sim_score:\n",
    "      sim_score, sim_letter = temp_score, i\n",
    "  return sim_letter, sim_score"
   ]
  },
  {
   "cell_type": "markdown",
   "metadata": {
    "id": "dm6o-Ukov322"
   },
   "source": [
    "# Testing"
   ]
  },
  {
   "cell_type": "code",
   "execution_count": 205,
   "metadata": {
    "executionInfo": {
     "elapsed": 3,
     "status": "ok",
     "timestamp": 1697724337274,
     "user": {
      "displayName": "Tidez",
      "userId": "02859539383443049395"
     },
     "user_tz": -120
    },
    "id": "cb-p9Cpmv6I-"
   },
   "outputs": [],
   "source": [
    "def test_model(test_data,correct_values,letter_im,letter_am,D,print_flag):\n",
    "\n",
    "  # Simply iterate through all elements in the clean_letters set\n",
    "  score = 0\n",
    "  test_len = len(test_data)\n",
    "\n",
    "  keys = ['a','b','c','d','e','f','g','h','i','j','k','l','m','n','o','p','q','r','s','t','u','v','w','x','y','z']\n",
    "  score_dict = dict()\n",
    "  for k in keys:\n",
    "    score_dict[k] = 0\n",
    "\n",
    "  for i in range(test_len):\n",
    "\n",
    "    sim_letter, sim_score = similarity_search(test_data[i],letter_im,letter_am,D)\n",
    "\n",
    "    if sim_letter == correct_values[i]:\n",
    "      score += 1\n",
    "      score_dict[correct_values[i]] += 1;\n",
    "      if(print_flag):\n",
    "        print(\"CORRECT prediction! sim_letter: \" + sim_letter + \" sim_score: \" + str(sim_score))\n",
    "    else:\n",
    "      if(print_flag):\n",
    "        print(\"WRONG prediction! sim_letter: \" + sim_letter + \" sim_score: \" + str(sim_score))\n",
    "\n",
    "  print(\"Final accuracy is: %f\" % (score/test_len*100))\n",
    "\n",
    "  for k in keys:\n",
    "    score_dict[k] = score_dict[k]/(len(test_data)/26)\n",
    "  print(score_dict)\n"
   ]
  },
  {
   "cell_type": "code",
   "execution_count": 206,
   "metadata": {
    "colab": {
     "base_uri": "https://localhost:8080/"
    },
    "executionInfo": {
     "elapsed": 288,
     "status": "ok",
     "timestamp": 1697724337559,
     "user": {
      "displayName": "Tidez",
      "userId": "02859539383443049395"
     },
     "user_tz": -120
    },
    "id": "OYctu5Dgv8TW",
    "outputId": "184272d9-96c7-4afe-b81f-a0fe913df899"
   },
   "outputs": [
    {
     "name": "stdout",
     "output_type": "stream",
     "text": [
      "CORRECT prediction! sim_letter: a sim_score: 0.08203125\n",
      "CORRECT prediction! sim_letter: b sim_score: 0.08251953125\n",
      "CORRECT prediction! sim_letter: c sim_score: 0.0849609375\n",
      "CORRECT prediction! sim_letter: d sim_score: 0.08056640625\n",
      "CORRECT prediction! sim_letter: e sim_score: 0.08349609375\n",
      "CORRECT prediction! sim_letter: f sim_score: 0.08544921875\n",
      "CORRECT prediction! sim_letter: g sim_score: 0.0810546875\n",
      "CORRECT prediction! sim_letter: h sim_score: 0.07421875\n",
      "CORRECT prediction! sim_letter: i sim_score: 0.0751953125\n",
      "CORRECT prediction! sim_letter: j sim_score: 0.07958984375\n",
      "CORRECT prediction! sim_letter: k sim_score: 0.08154296875\n",
      "CORRECT prediction! sim_letter: l sim_score: 0.08056640625\n",
      "CORRECT prediction! sim_letter: m sim_score: 0.072265625\n",
      "CORRECT prediction! sim_letter: n sim_score: 0.07373046875\n",
      "CORRECT prediction! sim_letter: o sim_score: 0.0810546875\n",
      "CORRECT prediction! sim_letter: p sim_score: 0.0859375\n",
      "CORRECT prediction! sim_letter: q sim_score: 0.08056640625\n",
      "CORRECT prediction! sim_letter: r sim_score: 0.08203125\n",
      "CORRECT prediction! sim_letter: s sim_score: 0.07373046875\n",
      "CORRECT prediction! sim_letter: t sim_score: 0.07421875\n",
      "CORRECT prediction! sim_letter: u sim_score: 0.0751953125\n",
      "CORRECT prediction! sim_letter: v sim_score: 0.07763671875\n",
      "CORRECT prediction! sim_letter: w sim_score: 0.0791015625\n",
      "CORRECT prediction! sim_letter: x sim_score: 0.08203125\n",
      "CORRECT prediction! sim_letter: y sim_score: 0.07958984375\n",
      "CORRECT prediction! sim_letter: z sim_score: 0.0859375\n",
      "Final accuracy is: 100.000000\n",
      "{'a': 1.0, 'b': 1.0, 'c': 1.0, 'd': 1.0, 'e': 1.0, 'f': 1.0, 'g': 1.0, 'h': 1.0, 'i': 1.0, 'j': 1.0, 'k': 1.0, 'l': 1.0, 'm': 1.0, 'n': 1.0, 'o': 1.0, 'p': 1.0, 'q': 1.0, 'r': 1.0, 's': 1.0, 't': 1.0, 'u': 1.0, 'v': 1.0, 'w': 1.0, 'x': 1.0, 'y': 1.0, 'z': 1.0}\n"
     ]
    }
   ],
   "source": [
    "test_model(clean_letters,keys,letter_im,letter_am,D,True)"
   ]
  },
  {
   "cell_type": "markdown",
   "metadata": {
    "id": "is3nZX2Bw1lo"
   },
   "source": [
    "# Distorted testing"
   ]
  },
  {
   "cell_type": "code",
   "execution_count": 207,
   "metadata": {
    "executionInfo": {
     "elapsed": 2,
     "status": "ok",
     "timestamp": 1697724337560,
     "user": {
      "displayName": "Tidez",
      "userId": "02859539383443049395"
     },
     "user_tz": -120
    },
    "id": "anGhxMlVw4kv"
   },
   "outputs": [],
   "source": [
    "def distort_img(image,N):\n",
    "\n",
    "  # Since we know we have 35 pixels only\n",
    "  # We can do random indexing for this part\n",
    "  rand_idx = [x for x in range(35)]\n",
    "  random.shuffle(rand_idx)\n",
    "\n",
    "  # Initialize some empty image to avoid referencing issues\n",
    "  ret_img = np.zeros(35)\n",
    "\n",
    "  for i in range(35):\n",
    "\n",
    "    # if the random idx is in the distortion list\n",
    "    # let's flip bits\n",
    "    if(rand_idx[i] < N):\n",
    "      if(image[i] == 0):\n",
    "        ret_img[i] = 1\n",
    "      else:\n",
    "        ret_img[i] = 0\n",
    "    else:\n",
    "      ret_img[i] = image[i]\n",
    "\n",
    "  return ret_img"
   ]
  },
  {
   "cell_type": "code",
   "execution_count": 208,
   "metadata": {
    "colab": {
     "base_uri": "https://localhost:8080/",
     "height": 430
    },
    "executionInfo": {
     "elapsed": 407,
     "status": "ok",
     "timestamp": 1697724337965,
     "user": {
      "displayName": "Tidez",
      "userId": "02859539383443049395"
     },
     "user_tz": -120
    },
    "id": "1F800F3Rw7py",
    "outputId": "28dfeb25-560d-4445-e731-91b4f479de65"
   },
   "outputs": [
    {
     "data": {
      "image/png": "[encoded data removed]",
      "text/plain": [
       "<Figure size 640x480 with 1 Axes>"
      ]
     },
     "metadata": {},
     "output_type": "display_data"
    }
   ],
   "source": [
    "N_disortions = 5\n",
    "\n",
    "# Get random letter\n",
    "test_idx = random.randint(0,25)\n",
    "\n",
    "# Add distortions\n",
    "test_distort = distort_img(clean_letters[test_idx],N_disortions)\n",
    "\n",
    "# Show letter\n",
    "show_letter(test_distort)"
   ]
  },
  {
   "cell_type": "markdown",
   "metadata": {
    "id": "VEXFJGeRxDe6"
   },
   "source": [
    "Keep the M_repetitions to a maximum of 100. It takes long to simulate the data. 50 repetitions is just right."
   ]
  },
  {
   "cell_type": "code",
   "execution_count": 209,
   "metadata": {
    "executionInfo": {
     "elapsed": 3,
     "status": "ok",
     "timestamp": 1697724337965,
     "user": {
      "displayName": "Tidez",
      "userId": "02859539383443049395"
     },
     "user_tz": -120
    },
    "id": "GeP0X0vexAr4"
   },
   "outputs": [],
   "source": [
    "###############################################\n",
    "# Variations and testing\n",
    "###############################################\n",
    "\n",
    "def create_test_set(clean_letters, M, N):\n",
    "\n",
    "  labels = ['a','b','c','d','e','f','g','h','i','j','k','l','m','n','o','p','q','r','s','t','u','v','w','x','y','z']\n",
    "\n",
    "  # Initialize empty lists\n",
    "  test_data = []\n",
    "  test_answers = []\n",
    "\n",
    "  for i in range(len(clean_letters)):\n",
    "    for j in range(M):\n",
    "      test_data.append(distort_img(clean_letters[i],N))\n",
    "      test_answers.append(labels[i])\n",
    "\n",
    "  return test_data, test_answers"
   ]
  },
  {
   "cell_type": "code",
   "execution_count": 220,
   "metadata": {
    "colab": {
     "base_uri": "https://localhost:8080/"
    },
    "executionInfo": {
     "elapsed": 9379,
     "status": "ok",
     "timestamp": 1697724347341,
     "user": {
      "displayName": "Tidez",
      "userId": "02859539383443049395"
     },
     "user_tz": -120
    },
    "id": "qv8NvUH1xKKD",
    "outputId": "34afcbde-4fab-4d3e-b285-820bb3d03e94"
   },
   "outputs": [
    {
     "name": "stdout",
     "output_type": "stream",
     "text": [
      "Final accuracy is: 99.269231\n",
      "{'a': 1.0, 'b': 1.0, 'c': 1.0, 'd': 0.97, 'e': 1.0, 'f': 1.0, 'g': 0.97, 'h': 1.0, 'i': 1.0, 'j': 1.0, 'k': 1.0, 'l': 1.0, 'm': 0.98, 'n': 0.97, 'o': 0.92, 'p': 1.0, 'q': 1.0, 'r': 1.0, 's': 1.0, 't': 1.0, 'u': 1.0, 'v': 1.0, 'w': 1.0, 'x': 1.0, 'y': 1.0, 'z': 1.0}\n"
     ]
    }
   ],
   "source": [
    "###############################################\n",
    "# Testing out distortions\n",
    "###############################################\n",
    "\n",
    "# Tunable parameters\n",
    "N_distortions = 1\n",
    "M_repetitions = 100\n",
    "display_log   = False\n",
    "\n",
    "# First create the test data\n",
    "test_data, test_answers = create_test_set(clean_letters, M_repetitions ,N_distortions)\n",
    "\n",
    "# Test using our model earlier\n",
    "test_model(test_data,test_answers,letter_im,letter_am,D,display_log)"
   ]
  }
 ],
 "metadata": {
  "colab": {
   "authorship_tag": "ABX9TyNDRVyVcaY3nfqaiS/W+MfI",
   "provenance": []
  },
  "kernelspec": {
   "display_name": "Python 3",
   "language": "python",
   "name": "python3"
  },
  "language_info": {
   "codemirror_mode": {
    "name": "ipython",
    "version": 3
   },
   "file_extension": ".py",
   "mimetype": "text/x-python",
   "name": "python",
   "nbconvert_exporter": "python",
   "pygments_lexer": "ipython3",
   "version": "3.10.0"
  }
 },
 "nbformat": 4,
 "nbformat_minor": 1
}
