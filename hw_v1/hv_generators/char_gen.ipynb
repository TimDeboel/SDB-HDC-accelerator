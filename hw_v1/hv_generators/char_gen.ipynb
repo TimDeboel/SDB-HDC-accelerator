{
 "cells": [
  {
   "cell_type": "code",
   "execution_count": 63,
   "metadata": {
    "executionInfo": {
     "elapsed": 399,
     "status": "ok",
     "timestamp": 1697724336427,
     "user": {
      "displayName": "Tidez",
      "userId": "02859539383443049395"
     },
     "user_tz": -120
    },
    "id": "VMQzN0ttUuxj"
   },
   "outputs": [],
   "source": [
    "from matplotlib import image\n",
    "import math\n",
    "import matplotlib.pyplot as plt\n",
    "import requests\n",
    "import random\n",
    "import numpy as np\n",
    "import numpy.linalg as lin\n",
    "import scipy.special as ss\n",
    "\n",
    "# Convert binary text into a list\n",
    "def convert_to_list(raw_img):\n",
    "  converted_list = []\n",
    "  temp_row = []\n",
    "  for i in raw_img:\n",
    "    if(i != '\\n'):\n",
    "      if(i == '0'):\n",
    "        temp_row.append(0)\n",
    "      else:\n",
    "        temp_row.append(1)\n",
    "    else:\n",
    "      converted_list.append(temp_row)\n",
    "      temp_row = []\n",
    "\n",
    "  return converted_list\n",
    "\n",
    "###############################################\n",
    "# Displaying listed data as images\n",
    "###############################################\n",
    "def display_img(img_data):\n",
    "  plt.imshow(img_data, cmap='Greys',  interpolation='nearest')\n",
    "  plt.axis('off')\n",
    "  return\n",
    "\n",
    "###############################################\n",
    "# Adding noise to the system\n",
    "###############################################\n",
    "def add_noise(data,noise_prob):\n",
    "\n",
    "  # Initialize noisy data\n",
    "  noisy_data = []\n",
    "\n",
    "  # Sanity checker\n",
    "  if(noise_prob < 0 or noise_prob > 1):\n",
    "    print(\"Error! Noise probability isn't correct\")\n",
    "    return\n",
    "\n",
    "  # Get total length per row\n",
    "  col_length = len(data[0])\n",
    "\n",
    "  # Generate fixed length\n",
    "  shuffle_list = [x for x in range(col_length)]\n",
    "  cutoff_idx = round(col_length * noise_prob)\n",
    "\n",
    "  # Iterate per row\n",
    "  for row in data:\n",
    "\n",
    "    # Do random indexing\n",
    "    random.shuffle(shuffle_list)\n",
    "    temp_row = []\n",
    "\n",
    "    # Start flipping bits\n",
    "    for i in range(col_length):\n",
    "      if(shuffle_list[i] < cutoff_idx):\n",
    "        if(row[i] == 0):\n",
    "          temp_row.append(1)\n",
    "        else:\n",
    "          temp_row.append(0)\n",
    "      else:\n",
    "        temp_row.append(row[i])\n",
    "\n",
    "    noisy_data.append(temp_row)\n",
    "\n",
    "  return noisy_data\n",
    "\n",
    "###############################################\n",
    "# This just displays a clean set of letters\n",
    "###############################################\n",
    "def show_set(clean_letters):\n",
    "\n",
    "  fig, axs = plt.subplots(6, 5, figsize=(20, 20))\n",
    "\n",
    "  counter = 0\n",
    "  for i in range(5):\n",
    "    for j in range(5):\n",
    "      axs[i,j].imshow(1-np.reshape(clean_letters[i*5+j],(7,5)), cmap='Greys',  interpolation='nearest')\n",
    "\n",
    "  axs[5,0].axis('off')\n",
    "  axs[5,1].axis('off')\n",
    "\n",
    "  axs[5,2].imshow(1-np.reshape(clean_letters[25],(7,5)), cmap='Greys',  interpolation='nearest')\n",
    "\n",
    "  axs[5,3].axis('off')\n",
    "  axs[5,4].axis('off')\n",
    "\n",
    "  plt.show()\n",
    "\n",
    "###############################################\n",
    "# Displays a single letter\n",
    "###############################################\n",
    "def show_letter(letter):\n",
    "  plt.imshow(1-np.reshape(letter,(7,5)), cmap='Greys',  interpolation='nearest')\n",
    "\n",
    "###############################################\n",
    "# Magnitude counter\n",
    "###############################################\n",
    "def get_mag(A):\n",
    "  return np.sum(A)\n",
    "\n",
    "###############################################\n",
    "# Importing data\n",
    "###############################################\n",
    "# This data set contains all the letter from A to Z\n",
    "# Each row is a vectorized version of the letter\n",
    "# Each letter image has 7x5 pixel dimensions\n",
    "# The data set is arranged such that A is the first row and Z is the last\n",
    "# We made them into arrays too for simplicity\n",
    "\n",
    "# clean_letters = convert_to_list(list(requests.get('https://raw.githubusercontent.com/rgantonio/CoE161---FileDump/main/letters.txt').text))\n",
    "with open(\"char_data.txt\") as data_file:\n",
    "  clean_letters = convert_to_list(data_file.read())\n",
    "clean_letters = np.array(clean_letters)\n"
   ]
  },
  {
   "cell_type": "code",
   "execution_count": 64,
   "metadata": {
    "colab": {
     "base_uri": "https://localhost:8080/"
    },
    "executionInfo": {
     "elapsed": 7,
     "status": "ok",
     "timestamp": 1697724336921,
     "user": {
      "displayName": "Tidez",
      "userId": "02859539383443049395"
     },
     "user_tz": -120
    },
    "id": "rRc-KGdVVSC3",
    "outputId": "5fd21e19-9d91-4393-dc12-24229b8c87d2"
   },
   "outputs": [
    {
     "name": "stdout",
     "output_type": "stream",
     "text": [
      "Density: 0.01953125\n"
     ]
    }
   ],
   "source": [
    "###############################################\n",
    "# Set parameters\n",
    "###############################################\n",
    "D = 512\n",
    "M = 10    # Number of ones\n",
    "print(\"Density: \" + str(M/D))"
   ]
  },
  {
   "cell_type": "code",
   "execution_count": 65,
   "metadata": {
    "executionInfo": {
     "elapsed": 7,
     "status": "ok",
     "timestamp": 1697724336922,
     "user": {
      "displayName": "Tidez",
      "userId": "02859539383443049395"
     },
     "user_tz": -120
    },
    "id": "qBOLzE0KVuC6"
   },
   "outputs": [],
   "source": [
    "# Generate random HV, with 10% ones\n",
    "def u_gen_rand_hv(D):\n",
    "\n",
    "    # Sanity checker\n",
    "    if (D % 2):\n",
    "        print(\"Error - D can't be an odd number\")\n",
    "        return 0\n",
    "\n",
    "    hv = np.zeros(D, dtype = int)\n",
    "    indices = np.random.permutation(D)\n",
    "\n",
    "    hv[indices >= M] = 0\n",
    "    hv[indices < M] = 1\n",
    "\n",
    "    return hv"
   ]
  },
  {
   "cell_type": "code",
   "execution_count": 66,
   "metadata": {
    "executionInfo": {
     "elapsed": 7,
     "status": "ok",
     "timestamp": 1697724336922,
     "user": {
      "displayName": "Tidez",
      "userId": "02859539383443049395"
     },
     "user_tz": -120
    },
    "id": "EHqt36FBf8x1"
   },
   "outputs": [],
   "source": [
    "###############################################\n",
    "# Overlap calculation\n",
    "###############################################\n",
    "def overlap(A,B,D):\n",
    "    and_out = np.logical_and(A,B)\n",
    "    hv = \"\".join(str(int(x)) for x in and_out)\n",
    "    f = open(\"char_after_and.txt\", \"a\")\n",
    "    f.write(hv + \"\\n\" + str(np.sum(and_out)) + \"\\n\")\n",
    "    f.close()\n",
    "    return np.sum(and_out)/D"
   ]
  },
  {
   "cell_type": "code",
   "execution_count": 67,
   "metadata": {
    "executionInfo": {
     "elapsed": 7,
     "status": "ok",
     "timestamp": 1697724336922,
     "user": {
      "displayName": "Tidez",
      "userId": "02859539383443049395"
     },
     "user_tz": -120
    },
    "id": "pDQVQw8FSb1E"
   },
   "outputs": [],
   "source": [
    "def perm(A,N):\n",
    "  return np.roll(A,N)"
   ]
  },
  {
   "cell_type": "code",
   "execution_count": 68,
   "metadata": {
    "executionInfo": {
     "elapsed": 6,
     "status": "ok",
     "timestamp": 1697724336922,
     "user": {
      "displayName": "Tidez",
      "userId": "02859539383443049395"
     },
     "user_tz": -120
    },
    "id": "WM7qlXw3XBEB"
   },
   "outputs": [],
   "source": [
    "def superimpose(block):\n",
    "  # Apply OR to all HV's in block\n",
    "  return np.array([1 if x >= 1 else 0 for x in sum(block)])"
   ]
  },
  {
   "cell_type": "code",
   "execution_count": 69,
   "metadata": {},
   "outputs": [],
   "source": [
    "def countones(Z):\n",
    "  count = 0\n",
    "  for i in Z:\n",
    "    count += i\n",
    "    \n",
    "  return count"
   ]
  },
  {
   "cell_type": "code",
   "execution_count": 70,
   "metadata": {
    "executionInfo": {
     "elapsed": 6,
     "status": "ok",
     "timestamp": 1697724336922,
     "user": {
      "displayName": "Tidez",
      "userId": "02859539383443049395"
     },
     "user_tz": -120
    },
    "id": "5MZOsB6XFw2A"
   },
   "outputs": [],
   "source": [
    "def HGN(block):\n",
    "  # implementation as in the paper (additive CDT)\n",
    "  K = 1\n",
    "  thinned_list = []\n",
    "  Z = superimpose(block)\n",
    "  # print(countones(Z)/D)\n",
    "  for k in range(1,K+1):\n",
    "    thinned_list.append(np.logical_and(Z, perm(Z,k)))\n",
    "  res = superimpose(thinned_list)\n",
    "  # print(countones(res)/D)\n",
    "  return res"
   ]
  },
  {
   "cell_type": "markdown",
   "metadata": {
    "id": "nFHiaVv6enR4"
   },
   "source": [
    "# **Encoding**"
   ]
  },
  {
   "cell_type": "code",
   "execution_count": 71,
   "metadata": {
    "executionInfo": {
     "elapsed": 4,
     "status": "ok",
     "timestamp": 1697724337273,
     "user": {
      "displayName": "Tidez",
      "userId": "02859539383443049395"
     },
     "user_tz": -120
    },
    "id": "kPxsRIo1epPK"
   },
   "outputs": [],
   "source": [
    "def create_item_mem(N,D):\n",
    "  item_mem = dict()\n",
    "  for n in range(N):\n",
    "    item_mem[n] = u_gen_rand_hv(D)\n",
    "  return item_mem"
   ]
  },
  {
   "cell_type": "code",
   "execution_count": 72,
   "metadata": {
    "executionInfo": {
     "elapsed": 4,
     "status": "ok",
     "timestamp": 1697724337273,
     "user": {
      "displayName": "Tidez",
      "userId": "02859539383443049395"
     },
     "user_tz": -120
    },
    "id": "4jHT2ek1e0FU"
   },
   "outputs": [],
   "source": [
    "def create_im(D):\n",
    "  # Initialize item memory\n",
    "  letter_im = create_item_mem(35,D) # 7x5=35 pixels per letter -> 35 HV's necessary\n",
    "\n",
    "  # Output IM in \"im_man.txt\"\n",
    "  im_hw = \"\"\n",
    "  for pixel in letter_im.keys():\n",
    "    hv = \"\".join(str(x) for x in letter_im[pixel])\n",
    "    hv = str(D) + \"'b\" + hv\n",
    "    im_hw = im_hw + \"6'd\" + str(pixel) + \": \" + \"im_man_out = \" + hv + \";\\n\"\n",
    "\n",
    "  # f = open(\"char_im_man.txt\", \"w\")\n",
    "  # f.write(im_hw)\n",
    "  # f.close()\n",
    "  # print(\"Item memory written in: char_im_man.txt\")\n",
    "  return letter_im"
   ]
  },
  {
   "cell_type": "code",
   "execution_count": 73,
   "metadata": {
    "executionInfo": {
     "elapsed": 4,
     "status": "ok",
     "timestamp": 1697724337273,
     "user": {
      "displayName": "Tidez",
      "userId": "02859539383443049395"
     },
     "user_tz": -120
    },
    "id": "3ycYbWd0e4bK"
   },
   "outputs": [],
   "source": [
    "# HDC encoder\n",
    "def hdc_encode(letter, letter_im, D):\n",
    "  letter_block = []\n",
    "  for i in range(len(letter)):\n",
    "    if(letter[i] == 1):\n",
    "      hv = perm(letter_im[i],1)\n",
    "    else:\n",
    "      hv = letter_im[i]\n",
    "\n",
    "    letter_block.append(hv)\n",
    "\n",
    "    # print(countones(superimpose(letter_block)))\n",
    "  return HGN(letter_block)"
   ]
  },
  {
   "cell_type": "code",
   "execution_count": 74,
   "metadata": {
    "executionInfo": {
     "elapsed": 3,
     "status": "ok",
     "timestamp": 1697724337273,
     "user": {
      "displayName": "Tidez",
      "userId": "02859539383443049395"
     },
     "user_tz": -120
    },
    "id": "dv2uFvgnfZtk"
   },
   "outputs": [],
   "source": [
    "# Create associative memory\n",
    "def create_am(D, letter_im):\n",
    "  keys = ['a','b','c','d','e','f','g','h','i','j','k','l','m','n','o','p','q','r','s','t','u','v','w','x','y','z']\n",
    "\n",
    "  letter_am = dict()\n",
    "\n",
    "  # open('char_after_perm.txt', 'w').close()\n",
    "  or_output = \"\"\n",
    "\n",
    "  for i in range(len(keys)):\n",
    "    letter = clean_letters[i]\n",
    "\n",
    "    letter_block = []\n",
    "    for j in range(len(letter)):\n",
    "      if(letter[j] == 1):\n",
    "        hv = perm(letter_im[j],1)\n",
    "      else:\n",
    "        hv = letter_im[j]\n",
    "\n",
    "      letter_block.append(hv)\n",
    "\n",
    "\n",
    "    # Output permuted item vectors for each letter\n",
    "    perm_output = \"\"\n",
    "    for pixel in range(len(letter_block)):\n",
    "      hv = \"\".join(str(x) for x in letter_block[pixel])\n",
    "      # hv = str(D) + \"'b\" + hv\n",
    "      perm_output = perm_output + hv + \"\\n\"\n",
    "\n",
    "    # f = open(\"char_after_perm.txt\", \"a\")\n",
    "    # f.write(str(i) + \"\\n\" + perm_output)\n",
    "    # f.close()\n",
    "\n",
    "\n",
    "    # Output superimposed letter HV's\n",
    "    summed = superimpose(letter_block)\n",
    "    hv2 = \"\".join(str(x) for x in summed)\n",
    "    # hv2 = str(D) + \"'b\" + hv2\n",
    "    or_output = or_output + hv2 + \"\\n\"\n",
    "\n",
    "    letter_am[keys[i]] = hdc_encode(clean_letters[i],letter_im,D)\n",
    "\n",
    "  # f = open(\"char_after_or.txt\", \"w\")\n",
    "  # f.write(or_output)\n",
    "  # f.close()\n",
    "\n",
    "\n",
    "  am_hw = \"\"\n",
    "  cdt_output = \"\"\n",
    "  # Output IM in \"im_man.txt\"\n",
    "  for letter in range(len(keys)):\n",
    "    hv = \"\".join(str(x) for x in letter_am[keys[letter]])\n",
    "    # hv2 = str(D) + \"'b\" + hv\n",
    "    # am_hw = am_hw + \"6'd\" + str(letter) + \": \" + \"am_man_out = \" + hv2 + \"\\n\"\n",
    "    am_hw = am_hw + hv\n",
    "    if (letter != len(keys)-1):\n",
    "      am_hw += \"\\n\"\n",
    "    cdt_output = cdt_output + hv + \"\\n\"\n",
    "\n",
    "  f = open(\"char_am.txt\", \"w\")\n",
    "  f.write(am_hw)\n",
    "  f.close()\n",
    "  print(\"Associative memory written in: char_am.txt\")\n",
    "\n",
    "  # f = open(\"char_after_cdt.txt\", \"w\")\n",
    "  # f.write(cdt_output)\n",
    "  # f.close()\n",
    "  return letter_am\n"
   ]
  },
  {
   "cell_type": "code",
   "execution_count": 75,
   "metadata": {},
   "outputs": [],
   "source": [
    "def import_im(D):\n",
    "  letter_im = dict()\n",
    "  f = open(\"char_im_man.txt\",\"r\")\n",
    "  for n in range(35):\n",
    "    line = f.readline()\n",
    "    line = list(line[-(D+2):-2])\n",
    "    line = [int(x) for x in line]\n",
    "    letter_im[n] = np.array(line)\n",
    "  \n",
    "  f.close()\n",
    "  return letter_im"
   ]
  },
  {
   "cell_type": "code",
   "execution_count": 76,
   "metadata": {},
   "outputs": [],
   "source": [
    "def import_am(D, keys):\n",
    "  letter_am = dict()\n",
    "  f = open(\"char_am.txt\",\"r\")\n",
    "  for n in range(len(keys)):\n",
    "    line = f.readline()\n",
    "    # line = list(line[-(D+2):-2])\n",
    "    line = list(line[0:1024])\n",
    "    # print(len(line))\n",
    "    line = [int(x) for x in line]\n",
    "    letter_am[keys[n]] = np.array(line)\n",
    "  \n",
    "  f.close()\n",
    "  return letter_am"
   ]
  },
  {
   "cell_type": "code",
   "execution_count": 77,
   "metadata": {},
   "outputs": [],
   "source": [
    "def export_chars(keys):\n",
    "  open(\"char_data_out.txt\",\"w\").close()\n",
    "  text = \"\"\n",
    "  f = open(\"char_data_out.txt\",\"a\")\n",
    "  for k in range(len(keys)):\n",
    "    text += str(bin(k)[2:].zfill(5))\n",
    "    if (k != (len(keys)-1)):\n",
    "      text += \"\\n\"\n",
    "  f.write(text)\n",
    "    \n",
    "  f.close()\n",
    "  return"
   ]
  },
  {
   "cell_type": "code",
   "execution_count": 78,
   "metadata": {},
   "outputs": [
    {
     "name": "stdout",
     "output_type": "stream",
     "text": [
      "Associative memory written in: char_am.txt\n"
     ]
    }
   ],
   "source": [
    "letter_im = create_im(D)\n",
    "# print(letter_im2)\n",
    "keys = ['a','b','c','d','e','f','g','h','i','j','k','l','m','n','o','p','q','r','s','t','u','v','w','x','y','z']\n",
    "# letter_im = import_im(D)\n",
    "# letter_am = import_am(D, keys)\n",
    "# print(letter_am['a'])\n",
    "letter_am = create_am(D, letter_im)\n",
    "# print(letter_am2)\n",
    "export_chars(keys)"
   ]
  },
  {
   "cell_type": "code",
   "execution_count": 79,
   "metadata": {
    "executionInfo": {
     "elapsed": 4,
     "status": "ok",
     "timestamp": 1697724337274,
     "user": {
      "displayName": "Tidez",
      "userId": "02859539383443049395"
     },
     "user_tz": -120
    },
    "id": "V_MU9v98veiB"
   },
   "outputs": [],
   "source": [
    "def similarity_search(letter,letter_im,letter_am,D):\n",
    "  sim_score = 0\n",
    "  sim_letter = '0'\n",
    "  test_hv = hdc_encode(letter,letter_im,D)\n",
    "  for i in letter_am:\n",
    "    temp_score = overlap(test_hv, letter_am[i],D)\n",
    "    if temp_score > sim_score:\n",
    "      sim_score, sim_letter = temp_score, i\n",
    "  return sim_letter, sim_score"
   ]
  },
  {
   "cell_type": "markdown",
   "metadata": {
    "id": "dm6o-Ukov322"
   },
   "source": [
    "# Testing"
   ]
  },
  {
   "cell_type": "code",
   "execution_count": 80,
   "metadata": {
    "executionInfo": {
     "elapsed": 3,
     "status": "ok",
     "timestamp": 1697724337274,
     "user": {
      "displayName": "Tidez",
      "userId": "02859539383443049395"
     },
     "user_tz": -120
    },
    "id": "cb-p9Cpmv6I-"
   },
   "outputs": [],
   "source": [
    "def test_model(test_data,correct_values,letter_im,letter_am,D,print_flag):\n",
    "\n",
    "  # Simply iterate through all elements in the clean_letters set\n",
    "  score = 0\n",
    "  test_len = len(test_data)\n",
    "\n",
    "  keys = ['a','b','c','d','e','f','g','h','i','j','k','l','m','n','o','p','q','r','s','t','u','v','w','x','y','z']\n",
    "  score_dict = dict()\n",
    "  for k in keys:\n",
    "    score_dict[k] = 0\n",
    "\n",
    "\n",
    "  open('char_after_and.txt', 'w').close()\n",
    "\n",
    "  for i in range(test_len):\n",
    "\n",
    "    sim_letter, sim_score = similarity_search(test_data[i],letter_im,letter_am,D)\n",
    "\n",
    "    if sim_letter == correct_values[i]:\n",
    "      score += 1\n",
    "      score_dict[correct_values[i]] += 1;\n",
    "      if(print_flag):\n",
    "        print(\"CORRECT prediction! sim_letter: \" + sim_letter + \" sim_score: \" + str(sim_score))\n",
    "    else:\n",
    "      if(print_flag):\n",
    "        print(\"WRONG prediction! sim_letter: \" + sim_letter + \" sim_score: \" + str(sim_score))\n",
    "\n",
    "  print(\"Final accuracy is: %f\" % (score/test_len*100))\n",
    "\n",
    "  for k in keys:\n",
    "    score_dict[k] = score_dict[k]/(len(test_data)/26)\n",
    "  print(score_dict)\n"
   ]
  },
  {
   "cell_type": "code",
   "execution_count": 81,
   "metadata": {
    "colab": {
     "base_uri": "https://localhost:8080/"
    },
    "executionInfo": {
     "elapsed": 288,
     "status": "ok",
     "timestamp": 1697724337559,
     "user": {
      "displayName": "Tidez",
      "userId": "02859539383443049395"
     },
     "user_tz": -120
    },
    "id": "OYctu5Dgv8TW",
    "outputId": "184272d9-96c7-4afe-b81f-a0fe913df899"
   },
   "outputs": [
    {
     "name": "stdout",
     "output_type": "stream",
     "text": [
      "CORRECT prediction! sim_letter: a sim_score: 0.248046875\n",
      "CORRECT prediction! sim_letter: b sim_score: 0.234375\n",
      "CORRECT prediction! sim_letter: c sim_score: 0.25\n",
      "CORRECT prediction! sim_letter: d sim_score: 0.25\n",
      "CORRECT prediction! sim_letter: e sim_score: 0.240234375\n",
      "CORRECT prediction! sim_letter: f sim_score: 0.216796875\n",
      "CORRECT prediction! sim_letter: g sim_score: 0.232421875\n",
      "CORRECT prediction! sim_letter: h sim_score: 0.248046875\n",
      "CORRECT prediction! sim_letter: i sim_score: 0.25390625\n",
      "CORRECT prediction! sim_letter: j sim_score: 0.234375\n",
      "CORRECT prediction! sim_letter: k sim_score: 0.234375\n",
      "CORRECT prediction! sim_letter: l sim_score: 0.236328125\n",
      "CORRECT prediction! sim_letter: m sim_score: 0.265625\n",
      "CORRECT prediction! sim_letter: n sim_score: 0.2734375\n",
      "CORRECT prediction! sim_letter: o sim_score: 0.244140625\n",
      "CORRECT prediction! sim_letter: p sim_score: 0.216796875\n",
      "CORRECT prediction! sim_letter: q sim_score: 0.24609375\n",
      "CORRECT prediction! sim_letter: r sim_score: 0.208984375\n",
      "CORRECT prediction! sim_letter: s sim_score: 0.25390625\n",
      "CORRECT prediction! sim_letter: t sim_score: 0.248046875\n",
      "CORRECT prediction! sim_letter: u sim_score: 0.251953125\n",
      "CORRECT prediction! sim_letter: v sim_score: 0.255859375\n",
      "CORRECT prediction! sim_letter: w sim_score: 0.28125\n",
      "CORRECT prediction! sim_letter: x sim_score: 0.24609375\n",
      "CORRECT prediction! sim_letter: y sim_score: 0.234375\n",
      "CORRECT prediction! sim_letter: z sim_score: 0.240234375\n",
      "Final accuracy is: 100.000000\n",
      "{'a': 1.0, 'b': 1.0, 'c': 1.0, 'd': 1.0, 'e': 1.0, 'f': 1.0, 'g': 1.0, 'h': 1.0, 'i': 1.0, 'j': 1.0, 'k': 1.0, 'l': 1.0, 'm': 1.0, 'n': 1.0, 'o': 1.0, 'p': 1.0, 'q': 1.0, 'r': 1.0, 's': 1.0, 't': 1.0, 'u': 1.0, 'v': 1.0, 'w': 1.0, 'x': 1.0, 'y': 1.0, 'z': 1.0}\n"
     ]
    }
   ],
   "source": [
    "test_model(clean_letters,keys,letter_im,letter_am,D,True)"
   ]
  },
  {
   "cell_type": "markdown",
   "metadata": {
    "id": "is3nZX2Bw1lo"
   },
   "source": [
    "# Distorted testing"
   ]
  },
  {
   "cell_type": "code",
   "execution_count": 82,
   "metadata": {
    "executionInfo": {
     "elapsed": 2,
     "status": "ok",
     "timestamp": 1697724337560,
     "user": {
      "displayName": "Tidez",
      "userId": "02859539383443049395"
     },
     "user_tz": -120
    },
    "id": "anGhxMlVw4kv"
   },
   "outputs": [],
   "source": [
    "def distort_img(image,N):\n",
    "\n",
    "  # Since we know we have 35 pixels only\n",
    "  # We can do random indexing for this part\n",
    "  rand_idx = [x for x in range(35)]\n",
    "  random.shuffle(rand_idx)\n",
    "\n",
    "  # Initialize some empty image to avoid referencing issues\n",
    "  ret_img = np.zeros(35)\n",
    "\n",
    "  for i in range(35):\n",
    "\n",
    "    # if the random idx is in the distortion list\n",
    "    # let's flip bits\n",
    "    if(rand_idx[i] < N):\n",
    "      if(image[i] == 0):\n",
    "        ret_img[i] = 1\n",
    "      else:\n",
    "        ret_img[i] = 0\n",
    "    else:\n",
    "      ret_img[i] = image[i]\n",
    "\n",
    "  return ret_img"
   ]
  },
  {
   "cell_type": "markdown",
   "metadata": {
    "id": "VEXFJGeRxDe6"
   },
   "source": [
    "Keep the M_repetitions to a maximum of 100. It takes long to simulate the data. 50 repetitions is just right."
   ]
  },
  {
   "cell_type": "code",
   "execution_count": 83,
   "metadata": {
    "executionInfo": {
     "elapsed": 3,
     "status": "ok",
     "timestamp": 1697724337965,
     "user": {
      "displayName": "Tidez",
      "userId": "02859539383443049395"
     },
     "user_tz": -120
    },
    "id": "GeP0X0vexAr4"
   },
   "outputs": [],
   "source": [
    "###############################################\n",
    "# Variations and testing\n",
    "###############################################\n",
    "\n",
    "def create_test_set(clean_letters, M, N):\n",
    "\n",
    "  labels = ['a','b','c','d','e','f','g','h','i','j','k','l','m','n','o','p','q','r','s','t','u','v','w','x','y','z']\n",
    "\n",
    "  # Initialize empty lists\n",
    "  test_data = []\n",
    "  test_answers = []\n",
    "\n",
    "  for i in range(len(clean_letters)):\n",
    "    for j in range(M):\n",
    "      test_data.append(distort_img(clean_letters[i],N))\n",
    "      test_answers.append(labels[i])\n",
    "\n",
    "  return test_data, test_answers"
   ]
  },
  {
   "cell_type": "code",
   "execution_count": 84,
   "metadata": {
    "colab": {
     "base_uri": "https://localhost:8080/"
    },
    "executionInfo": {
     "elapsed": 9379,
     "status": "ok",
     "timestamp": 1697724347341,
     "user": {
      "displayName": "Tidez",
      "userId": "02859539383443049395"
     },
     "user_tz": -120
    },
    "id": "qv8NvUH1xKKD",
    "outputId": "34afcbde-4fab-4d3e-b285-820bb3d03e94"
   },
   "outputs": [
    {
     "name": "stdout",
     "output_type": "stream",
     "text": [
      "Final accuracy is: 96.769231\n",
      "{'a': 1.0, 'b': 0.99, 'c': 0.99, 'd': 0.96, 'e': 1.0, 'f': 0.94, 'g': 0.82, 'h': 0.87, 'i': 1.0, 'j': 0.98, 'k': 1.0, 'l': 1.0, 'm': 0.86, 'n': 0.96, 'o': 0.89, 'p': 0.98, 'q': 1.0, 'r': 0.96, 's': 1.0, 't': 1.0, 'u': 1.0, 'v': 1.0, 'w': 0.96, 'x': 1.0, 'y': 1.0, 'z': 1.0}\n"
     ]
    }
   ],
   "source": [
    "###############################################\n",
    "# Testing out distortions\n",
    "###############################################\n",
    "test_distortions = True\n",
    "\n",
    "# Tunable parameters\n",
    "N_distortions = 2\n",
    "M_repetitions = 100\n",
    "display_log   = False\n",
    "\n",
    "if (test_distortions):\n",
    "  # First create the test data\n",
    "  test_data, test_answers = create_test_set(clean_letters, M_repetitions ,N_distortions)\n",
    "\n",
    "  # Test using our model earlier\n",
    "  test_model(test_data,test_answers,letter_im,letter_am,D,display_log)"
   ]
  }
 ],
 "metadata": {
  "colab": {
   "authorship_tag": "ABX9TyNDRVyVcaY3nfqaiS/W+MfI",
   "provenance": []
  },
  "kernelspec": {
   "display_name": "Python 3.12.2 64-bit",
   "language": "python",
   "name": "python3"
  },
  "language_info": {
   "codemirror_mode": {
    "name": "ipython",
    "version": 3
   },
   "file_extension": ".py",
   "mimetype": "text/x-python",
   "name": "python",
   "nbconvert_exporter": "python",
   "pygments_lexer": "ipython3",
   "version": "3.12.2"
  },
  "vscode": {
   "interpreter": {
    "hash": "a7f2bb35f441a7b46a8c8fdc57bf30046ff09601f5a689a15e8268768a19b65a"
   }
  }
 },
 "nbformat": 4,
 "nbformat_minor": 1
}
